{
  "nbformat": 4,
  "nbformat_minor": 0,
  "metadata": {
    "colab": {
      "name": "Untitled0.ipynb",
      "version": "0.3.2",
      "provenance": [],
      "include_colab_link": true
    },
    "kernelspec": {
      "name": "python3",
      "display_name": "Python 3"
    }
  },
  "cells": [
    {
      "cell_type": "markdown",
      "metadata": {
        "id": "view-in-github",
        "colab_type": "text"
      },
      "source": [
        "<a href=\"https://colab.research.google.com/github/ArgonArnav/Gender_Prediction/blob/master/Untitled0.ipynb\" target=\"_parent\"><img src=\"https://colab.research.google.com/assets/colab-badge.svg\" alt=\"Open In Colab\"/></a>"
      ]
    },
    {
      "cell_type": "markdown",
      "metadata": {
        "id": "y89gM7ipVwnm",
        "colab_type": "text"
      },
      "source": [
        "# **NATURAL LANGUAGE PROCESSING**\n",
        " \n",
        "##  **GENDER PREDICTION**"
      ]
    },
    {
      "cell_type": "markdown",
      "metadata": {
        "id": "bw36jR85WtJs",
        "colab_type": "text"
      },
      "source": [
        "### We can use natural language processing to make predictions.\n",
        "\n",
        "### **Example**: Given a product review, a computer can predict if its positive or negative based on the text."
      ]
    },
    {
      "cell_type": "markdown",
      "metadata": {
        "id": "XWnx5vVKXJPP",
        "colab_type": "text"
      },
      "source": [
        "### To create our analysis program, we have several steps:\n",
        "\n",
        "\n",
        "*  Data preparation\n",
        "*  Feature extraction\n",
        "*  Training\n",
        "*  Prediction\n",
        "\n"
      ]
    },
    {
      "cell_type": "markdown",
      "metadata": {
        "id": "4qCzmTNTZHEF",
        "colab_type": "text"
      },
      "source": [
        "### Data Preparation"
      ]
    },
    {
      "cell_type": "code",
      "metadata": {
        "id": "vfGPOd8kWlAu",
        "colab_type": "code",
        "colab": {}
      },
      "source": [
        "import nltk\n",
        "from nltk.corpus import names\n",
        "nltk.download('names')\n",
        "\n",
        "names = ([(name, 'male') for name in names.words('male.txt')] + \n",
        "\t [(name, 'female') for name in names.words('female.txt')])"
      ],
      "execution_count": 0,
      "outputs": []
    },
    {
      "cell_type": "markdown",
      "metadata": {
        "id": "W0Tu1MuEY4Ws",
        "colab_type": "text"
      },
      "source": [
        "### Feature Extraction\n",
        "\n",
        "* Based on the dataset, we prepare our feature. The feature we will use is the last letter of a name:"
      ]
    },
    {
      "cell_type": "code",
      "metadata": {
        "id": "sr3y47qVZBKJ",
        "colab_type": "code",
        "colab": {}
      },
      "source": [
        "def gender_features(word): \n",
        "    return {'last_letter': word[-1]}\n",
        "featuresets = [(gender_features(n), g) for (n,g) in names]"
      ],
      "execution_count": 0,
      "outputs": []
    },
    {
      "cell_type": "markdown",
      "metadata": {
        "id": "IB7gMyMLaA7g",
        "colab_type": "text"
      },
      "source": [
        "### **Training and Prediction**"
      ]
    },
    {
      "cell_type": "code",
      "metadata": {
        "id": "vevHTIEpaKvn",
        "colab_type": "code",
        "colab": {
          "base_uri": "https://localhost:8080/",
          "height": 35
        },
        "outputId": "9fb634d3-7d92-407e-8124-c32f86f23111"
      },
      "source": [
        "import nltk.classify.util\n",
        "from nltk.classify import NaiveBayesClassifier\n",
        "\n",
        "train_set = featuresets  \n",
        "classifier = nltk.NaiveBayesClassifier.train(train_set) \n",
        " \n",
        "print(classifier.classify(gender_features('Frank'))) # Prediction"
      ],
      "execution_count": 9,
      "outputs": [
        {
          "output_type": "stream",
          "text": [
            "male\n"
          ],
          "name": "stdout"
        }
      ]
    },
    {
      "cell_type": "markdown",
      "metadata": {
        "id": "K8_Z3w_Uavft",
        "colab_type": "text"
      },
      "source": [
        "### And for custom input"
      ]
    },
    {
      "cell_type": "code",
      "metadata": {
        "id": "sGAn2U7WauCv",
        "colab_type": "code",
        "colab": {
          "base_uri": "https://localhost:8080/",
          "height": 52
        },
        "outputId": "c8a11f4c-5e26-45f6-a35b-eab2929e75f6"
      },
      "source": [
        "name = input(\"Name: \")\n",
        "print(classifier.classify(gender_features(name)))"
      ],
      "execution_count": 10,
      "outputs": [
        {
          "output_type": "stream",
          "text": [
            "Name: Arnav\n",
            "male\n"
          ],
          "name": "stdout"
        }
      ]
    }
  ]
}
